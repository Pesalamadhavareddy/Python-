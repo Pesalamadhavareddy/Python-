{
  "nbformat": 4,
  "nbformat_minor": 0,
  "metadata": {
    "colab": {
      "provenance": [],
      "authorship_tag": "ABX9TyNRADYHLdvHVd18Eq2/YpAN",
      "include_colab_link": true
    },
    "kernelspec": {
      "name": "python3",
      "display_name": "Python 3"
    },
    "language_info": {
      "name": "python"
    }
  },
  "cells": [
    {
      "cell_type": "markdown",
      "metadata": {
        "id": "view-in-github",
        "colab_type": "text"
      },
      "source": [
        "<a href=\"https://colab.research.google.com/github/Pesalamadhavareddy/Python-/blob/main/Untitled12.ipynb\" target=\"_parent\"><img src=\"https://colab.research.google.com/assets/colab-badge.svg\" alt=\"Open In Colab\"/></a>"
      ]
    },
    {
      "cell_type": "code",
      "execution_count": null,
      "metadata": {
        "colab": {
          "base_uri": "https://localhost:8080/"
        },
        "id": "-u2MKrpjvmXv",
        "outputId": "224c1b65-8042-4c98-940d-9b7a87076d75"
      },
      "outputs": [
        {
          "output_type": "stream",
          "name": "stdout",
          "text": [
            "Your new password is: )OTf*Z2AMVqk.5oY\n"
          ]
        }
      ],
      "source": [
        "import random\n",
        "\n",
        "lower = \"abcdefghijklmnopqrstuvwxyz\"\n",
        "upper = \"ABCDEFGHIJKLMNOPQRSTUVWXYZ\"\n",
        "numbers = \"0123456789\"\n",
        "symbols = \"!@#$%^&*().\"\n",
        "\n",
        "string = lower + upper + numbers + symbols\n",
        "length = 16\n",
        "password = \"\".join(random.sample(string, length))\n",
        "\n",
        "print(\"Your new password is:\", password)"
      ]
    }
  ]
}